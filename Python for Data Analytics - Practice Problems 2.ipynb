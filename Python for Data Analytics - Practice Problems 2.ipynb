{
 "cells": [
  {
   "cell_type": "markdown",
   "metadata": {},
   "source": [
    "<font size=\"3\" color=\"brown\">Author : UTSAV AWASTHI</font><br>\n",
    "<font size=\"1\" color=\"brown\">About Me: http://iamawesome.com/ </font> <br>\n",
    "Subscribe to my YouTube channel <a href=\"https://www.youtube.com/channel/UCJpp55YcP5swWj8TmIOd0OA/\">here</a><br> \n",
    "For serious conversations related to career and jobs, follow me on <a href=\"https://www.linkedin.com/in/utsavawasthi/\">LinkedIn</a><br>\n",
    "For low-effort dank memes and one-liners, follow me on <a href=\"https://twitter.com/utsavsaidwhat\">Twitter</a>"
   ]
  },
  {
   "cell_type": "markdown",
   "metadata": {},
   "source": [
    "<div align=\"center\">\n",
    "    <font size = 3 color=\"orange\" style=\"font-family: 'Comic Sans MS'\">// ज्ञानं परमं बलम् //</font><br>\n",
    "</div>\n",
    "<img src = \"https://www.python.org/static/community_logos/python-logo-master-v3-TM.png\" width=\"50%\" height=\"50%\">\n",
    "<div align=\"center\" id=\"contents\"> <font size=\"5\" color=\"orange\"><b>PYTHON PROGRAMMING LANGUAGE</b></font> </div>\n",
    "\n",
    "<div align=\"left\"> <font size=\"4\" color=\"red\"><b>TABLE OF CONTENTS</b></font> </div>\n",
    "<ul type=\"square\">\n",
    "    <li>Control Flow and Loops</li>\n",
    "    <ul type=\"square\">\n",
    "        <li>if-elif-else</li>\n",
    "        <li>'for' loop</li>\n",
    "        <li>'while' loop</li>\n",
    "    </ul>\n",
    "    <li>Functions</li>\n",
    "</ul>"
   ]
  },
  {
   "cell_type": "markdown",
   "metadata": {},
   "source": [
    "<b>Generic tips for writing functions -</b>\n",
    "<font color=\"green\"><ul type=\"square\">\n",
    "    <li>Thoroughly understand what is going to be the input and output of the function</li>\n",
    "    <li>Assume some random value of each of the inputs and create variables for the same</li>\n",
    "    <li>Think about how you as a human will get to the output. List down the steps you will have to follow. This will help you break down the requirement into smaller components</li>\n",
    "    <li>Write code for each of the components or steps. Try to use inbuilt or module based pre-defined functions. Remember to keep things as simple as possible</li>\n",
    "    <li>Verify you are getting the correct output using the random inputs you assumed in step 2</li>\n",
    "    <li>If the output is correct, convert the code into a function</li>\n",
    "    <li>Do test your function with new values of all the parameters</li>\n",
    "</ul>\n",
    "</font>"
   ]
  },
  {
   "cell_type": "markdown",
   "metadata": {},
   "source": [
    "<b>Q1.</b> Write a function 'list_sum(lst)' to sum up elements of a given list e.g.<br>\n",
    "list_sum([1,2,3,4]) should give 10<br>\n",
    "list_sum([1,2,3,4,5]) should give 15"
   ]
  },
  {
   "cell_type": "code",
   "execution_count": null,
   "metadata": {},
   "outputs": [],
   "source": []
  },
  {
   "cell_type": "markdown",
   "metadata": {},
   "source": [
    "<b>Q2.</b> Write a function 'list_extremes(lst, option)' to get maximum or minimum element of a given list depending on what user wants e.g.<br>\n",
    "list_extremes([4,5,3,7,1], 'min') should give 1<br>\n",
    "list_extremes([4,5,3,7,1], 'max') should give 7"
   ]
  },
  {
   "cell_type": "code",
   "execution_count": null,
   "metadata": {},
   "outputs": [],
   "source": []
  },
  {
   "cell_type": "markdown",
   "metadata": {},
   "source": [
    "<b>Q2.a.</b> Can you also find top N largest and smallest elements from a list e.g.<br>\n",
    "list_extremes([4,5,3,7,1,2,8,9,6], 'min', 3) = [1,2,3]<br>\n",
    "list_extremes([4,5,3,7,1,2,8,9,6], 'max', 4) = [6,7,8,9] = 42\n"
   ]
  },
  {
   "cell_type": "code",
   "execution_count": null,
   "metadata": {},
   "outputs": [],
   "source": []
  },
  {
   "cell_type": "markdown",
   "metadata": {},
   "source": [
    "<b>Q3.</b> Write a function 'list_mean(lst)' to find mean or average of elements of a given list e.g.<br>\n",
    "list_mean([1,2,3,4]) should give 2.5<br>\n",
    "list_mean([1,2,3,4,5]) should give 3<br>"
   ]
  },
  {
   "cell_type": "code",
   "execution_count": null,
   "metadata": {},
   "outputs": [],
   "source": []
  },
  {
   "cell_type": "markdown",
   "metadata": {},
   "source": [
    "<b>Q4.</b> Write a function 'factorial(n)' to find factorial of a given positive number using (a) for loop (b) while loop e.g.<br>\n",
    "factorial(5) = 5x4x3x2x1 = 120<br>\n",
    "factorial(6) = 6x5x4x3x2x1 = 720"
   ]
  },
  {
   "cell_type": "code",
   "execution_count": null,
   "metadata": {},
   "outputs": [],
   "source": []
  },
  {
   "cell_type": "markdown",
   "metadata": {},
   "source": [
    "<b>Q5.</b> Write a function 'multiples(lst, start, end)' to find the sum of all numbers between 'start' and 'end'(both included) which are multiple of ANY of the numbers inside the list 'lst' e.g.<br>\n",
    "multiples([2,3], 0, 10) = 2+3+4+6+8+9+10 = 42<br>\n",
    "multiples([7,5], 10, 40) = 14+15+20+21+25+28+30+35+40 = 238"
   ]
  },
  {
   "cell_type": "code",
   "execution_count": null,
   "metadata": {},
   "outputs": [],
   "source": []
  },
  {
   "cell_type": "markdown",
   "metadata": {},
   "source": [
    "<b>Q6.</b> Write a function 'is_prime(n)' to find if a given number is prime or not e.g.<br>\n",
    "is_prime(23) = True<br>\n",
    "is_prime(100) = False<br>\n",
    "Find the sum of prime numbers between 1 and 1000."
   ]
  },
  {
   "cell_type": "code",
   "execution_count": null,
   "metadata": {},
   "outputs": [],
   "source": []
  },
  {
   "cell_type": "markdown",
   "metadata": {},
   "source": [
    "<b>Q7.</b> Fibonacci series starts with two numbers 0 and 1 and each subsequent number is a sum of previous two numbers. Write a function 'fibonacci(n)' to print first 'n' fibonacci numbers e.g.<br>\n",
    "fibonacci(5) = 0,1,1,2,3<br>\n",
    "fibonacci(11) = 0,1,1,2,3,5,8,13,21,34,55"
   ]
  },
  {
   "cell_type": "code",
   "execution_count": null,
   "metadata": {},
   "outputs": [],
   "source": []
  },
  {
   "cell_type": "markdown",
   "metadata": {},
   "source": [
    "<b>Q8.</b>Write a function 'ssq(n)' to get the sum of squares of first n natural numbers e.g.<br>\n",
    "ssq(3) = 1^2 + 2^2 + 3^2 = 1+4+9 = 14<br>\n",
    "ssq(5) = 1^2 + 2^2 + 3^2 + 4^2 + 5^2= 1+4+9+16+25 = 55"
   ]
  },
  {
   "cell_type": "code",
   "execution_count": null,
   "metadata": {},
   "outputs": [],
   "source": []
  },
  {
   "cell_type": "markdown",
   "metadata": {},
   "source": [
    "<b>Q9.</b> Similar to Q8 above, write a function 'sum_of_mth_power(n,m)' to find sum of mth power of first n natural numbers e.g.<br>\n",
    "sum_of_mth_power(5,2) = 1^2 + 2^2 + 3^2 + 4^2 + 5^2= 1+4+9+16+25 = 55<br>\n",
    "sum_of_mth_power(5,3) = 1^3 + 2^3 + 3^3 + 4^3 + 5^3= 1+8+27+64+125 = 225"
   ]
  },
  {
   "cell_type": "code",
   "execution_count": null,
   "metadata": {},
   "outputs": [],
   "source": []
  },
  {
   "cell_type": "markdown",
   "metadata": {},
   "source": [
    "<b>Q10.</b> Write a function vowel_consonent_count(s) to count how many vowels and consonents are there in the string 's' e.g.<br>\n",
    "vowel_consonent_count(\"Hello World!\") = [3, 7]<br>\n",
    "vowel_consonent_count(\"Barack Obama\") = [5, 6]"
   ]
  },
  {
   "cell_type": "code",
   "execution_count": null,
   "metadata": {},
   "outputs": [],
   "source": []
  },
  {
   "cell_type": "markdown",
   "metadata": {},
   "source": [
    "<b>Q11.</b> Write a function letter_frequency(s) to store frequency of each letter in the string 's' with keys are distinct letters in the string and values as the count of occurence of each letter. Treat lowercase and uppercase as same i.e. a and A should be counted as same e.g.<br>\n",
    "letter_frequency(\"Barack Obama\") = {'b':2, 'a':4, 'r':1, 'c':1, 'k':1, ' ':1,'o':1, 'm':1}"
   ]
  },
  {
   "cell_type": "code",
   "execution_count": null,
   "metadata": {},
   "outputs": [],
   "source": []
  },
  {
   "cell_type": "markdown",
   "metadata": {},
   "source": [
    "<b>Q11.b.</b> Using the function letter_frequency(s), can you print the letters which occur multiple times in string 's'. Call this function duplicated_letters(s) e.g.<br>\n",
    "duplicated_letters(\"Barack Obama\") = ['b', 'a']<br>\n",
    "duplicated_letters(\"Utsav Awasthi\") = ['t', 's', 'a']<br>"
   ]
  },
  {
   "cell_type": "code",
   "execution_count": null,
   "metadata": {},
   "outputs": [],
   "source": []
  },
  {
   "cell_type": "markdown",
   "metadata": {},
   "source": [
    "<b>Q12.a.</b> Use for loop to print the follow pattern:<br>\n",
    "<div>\n",
    "*<br>\n",
    "**<br>\n",
    "***<br>\n",
    "****<br>\n",
    "*****<br>\n",
    "</div>"
   ]
  },
  {
   "cell_type": "code",
   "execution_count": null,
   "metadata": {},
   "outputs": [],
   "source": []
  },
  {
   "cell_type": "markdown",
   "metadata": {},
   "source": [
    "<b>Q12.b.</b> Use for loop to print the follow pattern:<br>\n",
    "<div>\n",
    "*****<br>\n",
    "****<br>\n",
    "***<br>\n",
    "**<br>\n",
    "*<br>\n",
    "</div>"
   ]
  },
  {
   "cell_type": "code",
   "execution_count": null,
   "metadata": {},
   "outputs": [],
   "source": []
  },
  {
   "cell_type": "markdown",
   "metadata": {},
   "source": [
    "<b>Q12.c.</b> Use for loop to print the follow pattern:<br>\n",
    "<div>\n",
    "*****<br>\n",
    "&nbsp;****<br>\n",
    "&nbsp;&nbsp;***<br>\n",
    "&nbsp;&nbsp;&nbsp;**<br>\n",
    "&nbsp;&nbsp;&nbsp;&nbsp;*<br>\n",
    "</div>"
   ]
  },
  {
   "cell_type": "code",
   "execution_count": null,
   "metadata": {},
   "outputs": [],
   "source": []
  },
  {
   "cell_type": "markdown",
   "metadata": {},
   "source": [
    "<b>Q12.d.</b> Use for loop to print the follow pattern:<br>\n",
    "<div>\n",
    "&nbsp;&nbsp;&nbsp;&nbsp;*<br>\n",
    "&nbsp;&nbsp;&nbsp;**<br>\n",
    "&nbsp;&nbsp;***<br>\n",
    "&nbsp;****<br>\n",
    "*****<br>\n",
    "</div>"
   ]
  },
  {
   "cell_type": "markdown",
   "metadata": {},
   "source": [
    "<b>Q12.e.</b> Convert above examples to a function 'print_stars(n) which takes an integer 'n' as input and prints stars from 1 to n in separate lines. The above examples are for n=5."
   ]
  },
  {
   "cell_type": "code",
   "execution_count": null,
   "metadata": {},
   "outputs": [],
   "source": []
  },
  {
   "cell_type": "markdown",
   "metadata": {},
   "source": [
    "<font size = 10 color=\"green\">\"</font><br>\n",
    "<div align = center> \n",
    "    <font size = 5 color=\"green\" style=\"font-family: 'Comic Sans MS'\">Pass on what you have learned</font><br>\n",
    "</div>\n",
    "<div align = right> \n",
    "    <font size = 10 color=\"green\"t>\"</font><br>\n",
    "</div>\n",
    "<img align = \"right\" src = \"https://orig00.deviantart.net/ff5e/f/2013/102/4/4/yoda_by_valval-d61g9rh.png\" width=\"20%\" height=\"20%\">"
   ]
  }
 ],
 "metadata": {
  "kernelspec": {
   "display_name": "Python 3",
   "language": "python",
   "name": "python3"
  },
  "language_info": {
   "codemirror_mode": {
    "name": "ipython",
    "version": 3
   },
   "file_extension": ".py",
   "mimetype": "text/x-python",
   "name": "python",
   "nbconvert_exporter": "python",
   "pygments_lexer": "ipython3",
   "version": "3.7.3"
  }
 },
 "nbformat": 4,
 "nbformat_minor": 2
}
